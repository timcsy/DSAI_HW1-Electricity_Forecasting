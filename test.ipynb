{
 "cells": [
  {
   "cell_type": "markdown",
   "metadata": {},
   "source": [
    "## Tensor Factorization"
   ]
  },
  {
   "cell_type": "code",
   "execution_count": 1,
   "metadata": {},
   "outputs": [],
   "source": [
    "from MF import *\n",
    "import tensorly as tl\n",
    "import tensorly.tenalg as ta"
   ]
  },
  {
   "cell_type": "markdown",
   "metadata": {},
   "source": [
    "### Using Gradient descent algorithm"
   ]
  },
  {
   "cell_type": "code",
   "execution_count": 2,
   "metadata": {},
   "outputs": [
    {
     "name": "stdout",
     "output_type": "stream",
     "text": [
      "Iterations: 6508\n",
      "RMSE: 0.00867405484685836\n",
      "\n",
      "Original:\n",
      " [[1. 0. 0.]\n",
      " [0. 1. 0.]\n",
      " [0. 0. 1.]] \n",
      "\n",
      "Result:\n",
      " [[9.99293049e-01 1.68606144e-05 6.54530763e-04]\n",
      " [3.75819848e-05 9.95570432e-01 4.06952325e-03]\n",
      " [6.06958771e-04 4.00646000e-03 9.95340909e-01]]\n",
      "\n",
      "Feature 0:\n",
      " [[ 0.03041425 -0.04423782  0.9982786 ]\n",
      " [ 0.96697875  0.24845453 -0.01875736]\n",
      " [-0.24168973  0.96879518  0.05210965]]\n",
      "\n",
      "Feature 1:\n",
      " [[ 0.03104191 -0.0453132   0.99806244]\n",
      " [ 0.96597217  0.24611641 -0.01850666]\n",
      " [-0.24253769  0.96416291  0.050771  ]]\n"
     ]
    }
   ],
   "source": [
    "X = tl.eye(3)\n",
    "mask = tl.ones(X.shape)\n",
    "\n",
    "result, A = parafac_gd(X, mask=mask, penalty_weight=0)\n",
    "print('\\nOriginal:\\n', X, '\\n\\nResult:\\n', result)\n",
    "for k, feature_map in enumerate(A):\n",
    "    print(f'\\nFeature {k}:\\n', tl.to_numpy(feature_map))"
   ]
  },
  {
   "cell_type": "code",
   "execution_count": 3,
   "metadata": {},
   "outputs": [
    {
     "name": "stdout",
     "output_type": "stream",
     "text": [
      "Iterations: 6991\n",
      "RMSE: 0.008688488471761228\n",
      "\n",
      "Original:\n",
      " [[1. 0. 0.]\n",
      " [0. 1. 0.]\n",
      " [0. 0. 1.]] \n",
      "\n",
      "Result:\n",
      " [[ 9.99563542e-01 -6.95300515e-04  1.34295176e-03]\n",
      " [-6.77872637e-04  9.97336683e-01  3.82882937e-03]\n",
      " [ 1.27330573e-03  3.72762531e-03  9.94060036e-01]]\n",
      "\n",
      "Feature 0:\n",
      " [[ 0.48120158  0.81710808 -0.31394927]\n",
      " [-0.44290664  0.5359868   0.71704223]\n",
      " [ 0.75397534 -0.20078631  0.62398476]]\n",
      "\n",
      "Feature 1:\n",
      " [[ 0.48103902  0.81867939 -0.31577477]\n",
      " [-0.44460387  0.53594982  0.71565749]\n",
      " [ 0.75106876 -0.20227287  0.62046242]]\n"
     ]
    }
   ],
   "source": [
    "X = tl.eye(3)\n",
    "mask = tl.ones(X.shape)\n",
    "\n",
    "result, A = parafac_gd(X, mask=mask, penalty_weight=1e-6)\n",
    "print('\\nOriginal:\\n', X, '\\n\\nResult:\\n', result)\n",
    "for k, feature_map in enumerate(A):\n",
    "    print(f'\\nFeature {k}:\\n', tl.to_numpy(feature_map))"
   ]
  },
  {
   "cell_type": "code",
   "execution_count": 4,
   "metadata": {},
   "outputs": [
    {
     "name": "stdout",
     "output_type": "stream",
     "text": [
      "Iterations: 3906\n",
      "RMSE: 0.03969007158077993\n",
      "\n",
      "Original:\n",
      " [[1. 2. 3.]\n",
      " [2. 0. 6.]\n",
      " [3. 6. 0.]] \n",
      "\n",
      "Result:\n",
      " [[1.00605938 2.02201754 2.98351586]\n",
      " [2.02201482 4.06392457 5.99637894]\n",
      " [2.98352552 5.99640643 8.84778362]]\n",
      "\n",
      "Feature 0:\n",
      " [[1.00193005]\n",
      " [2.01371554]\n",
      " [2.97127975]]\n",
      "\n",
      "Feature 1:\n",
      " [[1.00412138]\n",
      " [2.01812247]\n",
      " [2.97776862]]\n"
     ]
    }
   ],
   "source": [
    "X = tl.tensor([[1, 2, 3], [2, 0, 6], [3, 6, 0]], dtype=tl.float64)\n",
    "mask = tl.tensor([[1, 1, 1], [1, 0, 1], [1, 1, 0]], dtype=tl.float64)\n",
    "rank = 1\n",
    "\n",
    "result, A = parafac_gd(X, mask=mask, rank=rank, penalty_weight=1e-3, n_iter_max=100000)\n",
    "print('\\nOriginal:\\n', X, '\\n\\nResult:\\n', result)\n",
    "for k, feature_map in enumerate(A):\n",
    "    print(f'\\nFeature {k}:\\n', tl.to_numpy(feature_map))"
   ]
  },
  {
   "cell_type": "code",
   "execution_count": 5,
   "metadata": {},
   "outputs": [
    {
     "name": "stdout",
     "output_type": "stream",
     "text": [
      "Iterations: 3917\n",
      "RMSE: 0.039676603904092715\n",
      "\n",
      "Original:\n",
      " [[1. 2. 3.]\n",
      " [2. 0. 6.]\n",
      " [3. 6. 0.]\n",
      " [0. 0. 0.]] \n",
      "\n",
      "Result:\n",
      " [[1.00605737e+00 2.02200957e+00 2.98352296e+00]\n",
      " [2.02200774e+00 4.06390244e+00 5.99638422e+00]\n",
      " [2.98352959e+00 5.99640296e+00 8.84783447e+00]\n",
      " [3.31263360e-03 6.65784779e-03 9.82381196e-03]]\n",
      "\n",
      "Feature 0:\n",
      " [[1.00227756]\n",
      " [2.01441096]\n",
      " [2.97232033]\n",
      " [0.00330019]]\n",
      "\n",
      "Feature 1:\n",
      " [[1.00377122]\n",
      " [2.01741478]\n",
      " [2.97674324]]\n"
     ]
    }
   ],
   "source": [
    "X = tl.tensor([[1, 2, 3], [2, 0, 6], [3, 6, 0], [0, 0, 0]], dtype=tl.float64)\n",
    "mask = tl.tensor([[1, 1, 1], [1, 0, 1], [1, 1, 0], [0, 0, 0]], dtype=tl.float64)\n",
    "rank = 1\n",
    "\n",
    "result, A = parafac_gd(X, mask=mask, rank=rank, penalty_weight=1e-3, n_iter_max=100000)\n",
    "print('\\nOriginal:\\n', X, '\\n\\nResult:\\n', result)\n",
    "for k, feature_map in enumerate(A):\n",
    "    print(f'\\nFeature {k}:\\n', tl.to_numpy(feature_map))"
   ]
  },
  {
   "cell_type": "code",
   "execution_count": null,
   "metadata": {},
   "outputs": [],
   "source": [
    "X = tl.tensor(np.array([[0,90,449,517], [0,0,412,0], [192,0,697,687], [185,0,699,657], [164,58,0,0]]), dtype=tl.float64)\n",
    "mask = tl.tensor(np.array([[0,1,1,1], [0,0,1,0], [1,0,1,1], [1,0,1,1], [1,1,0,0]]), dtype=tl.float64)\n",
    "rank = 4\n",
    "\n",
    "result, A = parafac_gd(X, mask=mask, rank=rank, penalty_weight=1e-3, n_iter_max=50000)\n",
    "print('\\nOriginal:\\n', X, '\\n\\nResult:\\n', result)\n",
    "for k, feature_map in enumerate(A):\n",
    "    print(f'\\nFeature {k}:\\n', tl.to_numpy(feature_map))"
   ]
  },
  {
   "cell_type": "markdown",
   "metadata": {},
   "source": [
    "### Using Alternating Least Squares method"
   ]
  },
  {
   "cell_type": "code",
   "execution_count": 7,
   "metadata": {},
   "outputs": [
    {
     "name": "stdout",
     "output_type": "stream",
     "text": [
      "Iterations: 2\n",
      "RMSE: 3.638599687738519e-05\n",
      "\n",
      "Original:\n",
      " [[1. 0. 0.]\n",
      " [0. 1. 0.]\n",
      " [0. 0. 1.]] \n",
      "\n",
      "Result:\n",
      " [[ 9.99983420e-01 -1.26264740e-05 -5.68159776e-06]\n",
      " [-1.26264740e-05  9.99978145e-01 -6.89417206e-06]\n",
      " [-5.68159776e-06 -6.89417206e-06  9.99990359e-01]]\n",
      "\n",
      "Feature 0:\n",
      " [[-4.13761265  9.41313808  2.57913021]\n",
      " [ 3.84881468 -6.01312302  6.07332273]\n",
      " [ 8.76954652  3.13397227 -7.28122317]]\n",
      "\n",
      "Feature 1:\n",
      " [[ 0.02982157  0.09794853  0.0780769 ]\n",
      " [ 0.0923293   0.00904698  0.11509686]\n",
      " [ 0.08757747  0.04224226 -0.01367759]]\n"
     ]
    }
   ],
   "source": [
    "X = tl.eye(3)\n",
    "mask = tl.ones(X.shape)\n",
    "rank = 3\n",
    "\n",
    "result, A = parafac_als(X, mask=mask, rank=rank, penalty_weight=1e-3)\n",
    "print('\\nOriginal:\\n', X, '\\n\\nResult:\\n', result)\n",
    "for k, feature_map in enumerate(A):\n",
    "    print(f'\\nFeature {k}:\\n', tl.to_numpy(feature_map))"
   ]
  },
  {
   "cell_type": "code",
   "execution_count": 8,
   "metadata": {},
   "outputs": [
    {
     "name": "stdout",
     "output_type": "stream",
     "text": [
      "Iterations: 320\n",
      "RMSE: 0.011390039491683376\n",
      "\n",
      "Original:\n",
      " [[1. 2. 3.]\n",
      " [2. 4. 6.]\n",
      " [3. 6. 9.]] \n",
      "\n",
      "Result:\n",
      " [[1.00229779 2.00710289 2.99800299]\n",
      " [2.00621889 4.01745646 6.00086149]\n",
      " [2.99503482 5.99756191 8.95853849]]\n",
      "\n",
      "Feature 0:\n",
      " [[3.31604061]\n",
      " [6.63745182]\n",
      " [9.90888854]]\n",
      "\n",
      "Feature 1:\n",
      " [[0.30225739]\n",
      " [0.6052709 ]\n",
      " [0.90409116]]\n"
     ]
    }
   ],
   "source": [
    "X = tl.tensor([[1, 2, 3], [2, 4, 6], [3, 6, 9]], dtype=tl.float64)\n",
    "mask = tl.tensor([[1, 1, 1], [1, 0, 1], [1, 1, 0]], dtype=tl.float64)\n",
    "rank = 1\n",
    "\n",
    "result, A = parafac_als(X, mask=mask, rank=rank, penalty_weight=1e-3)\n",
    "print('\\nOriginal:\\n', X, '\\n\\nResult:\\n', result)\n",
    "for k, feature_map in enumerate(A):\n",
    "    print(f'\\nFeature {k}:\\n', tl.to_numpy(feature_map))"
   ]
  },
  {
   "cell_type": "code",
   "execution_count": 9,
   "metadata": {},
   "outputs": [
    {
     "name": "stdout",
     "output_type": "stream",
     "text": [
      "Iterations: 321\n",
      "RMSE: 0.01138877014943058\n",
      "\n",
      "Original:\n",
      " [[1. 2. 3.]\n",
      " [2. 0. 6.]\n",
      " [3. 6. 0.]\n",
      " [0. 0. 0.]] \n",
      "\n",
      "Result:\n",
      " [[1.00229753 2.0071021  2.9980032 ]\n",
      " [2.00621819 4.0174545  6.00086137]\n",
      " [2.99503537 5.99756217 8.95854306]\n",
      " [0.         0.         0.        ]]\n",
      "\n",
      "Feature 0:\n",
      " [[3.31585242]\n",
      " [6.63707453]\n",
      " [9.90833054]\n",
      " [0.        ]]\n",
      "\n",
      "Feature 1:\n",
      " [[0.30227447]\n",
      " [0.60530502]\n",
      " [0.90414253]]\n"
     ]
    }
   ],
   "source": [
    "X = tl.tensor([[1, 2, 3], [2, 0, 6], [3, 6, 0], [0, 0, 0]], dtype=tl.float64)\n",
    "mask = tl.tensor([[1, 1, 1], [1, 0, 1], [1, 1, 0], [0, 0, 0]], dtype=tl.float64)\n",
    "rank = 1\n",
    "\n",
    "result, A = parafac_als(X, mask=mask, rank=rank, penalty_weight=1e-3)\n",
    "print('\\nOriginal:\\n', X, '\\n\\nResult:\\n', result)\n",
    "for k, feature_map in enumerate(A):\n",
    "    print(f'\\nFeature {k}:\\n', tl.to_numpy(feature_map))"
   ]
  },
  {
   "cell_type": "code",
   "execution_count": 10,
   "metadata": {},
   "outputs": [
    {
     "name": "stdout",
     "output_type": "stream",
     "text": [
      "Iterations: 2717\n",
      "RMSE: 0.213734034402169\n",
      "\n",
      "Original:\n",
      " [[  0.  90. 449. 517.]\n",
      " [  0.   0. 412.   0.]\n",
      " [192.   0. 697. 687.]\n",
      " [185.   0. 699. 657.]\n",
      " [164.  58.   0.   0.]] \n",
      "\n",
      "Result:\n",
      " [[ 142.09389437   89.99999924  449.00075064  517.01164119]\n",
      " [ -93.62520641   -1.73475567  411.99987663 -436.53645337]\n",
      " [ 192.1469916   129.00847471  696.99490796  686.96295448]\n",
      " [ 184.85300287  126.42643187  699.00466016  657.02946962]\n",
      " [ 163.99344395   57.99999206  -45.83808652  673.09392839]]\n",
      "\n",
      "Feature 0:\n",
      " [[223.22718009  56.32713299]\n",
      " [119.45089581 130.09153235]\n",
      " [335.68544332  97.38845065]\n",
      " [333.66211434 100.41617682]\n",
      " [ 45.24571474 -68.22752017]]\n",
      "\n",
      "Feature 1:\n",
      " [[ 1.06486357 -1.69745186]\n",
      " [ 0.52913869 -0.49919349]\n",
      " [ 1.57785016  1.71820762]\n",
      " [ 4.11658156 -7.13548216]]\n"
     ]
    }
   ],
   "source": [
    "X = tl.tensor(np.array([[0,90,449,517], [0,0,412,0], [192,0,697,687], [185,0,699,657], [164,58,0,0]]), dtype=tl.float64)\n",
    "mask = tl.tensor(np.array([[0,1,1,1], [0,0,1,0], [1,0,1,1], [1,0,1,1], [1,1,0,0]]), dtype=tl.float64)\n",
    "rank = 2\n",
    "\n",
    "result, A = parafac_als(X, mask=mask, rank=rank, penalty_weight=1e-3)\n",
    "print('\\nOriginal:\\n', X, '\\n\\nResult:\\n', result)\n",
    "for k, feature_map in enumerate(A):\n",
    "    print(f'\\nFeature {k}:\\n', tl.to_numpy(feature_map))"
   ]
  },
  {
   "cell_type": "markdown",
   "metadata": {},
   "source": [
    "### Graph Regularized Alternating Least Squares (GRALS)"
   ]
  },
  {
   "cell_type": "code",
   "execution_count": 11,
   "metadata": {},
   "outputs": [
    {
     "name": "stdout",
     "output_type": "stream",
     "text": [
      "Iterations: 2\n",
      "RMSE: 3.893268130161842e-05\n",
      "\n",
      "Original:\n",
      " [[1. 0. 0.]\n",
      " [0. 1. 0.]\n",
      " [0. 0. 1.]] \n",
      "\n",
      "Result:\n",
      " [[ 9.99984268e-01 -1.13953911e-05 -4.39780098e-08]\n",
      " [-1.13953911e-05  9.99977652e-01 -5.22132574e-06]\n",
      " [-4.39780098e-08 -5.22132574e-06  9.99978679e-01]]\n",
      "\n",
      "Feature 0:\n",
      " [[ 8.58458238 -5.10818568  2.14189355]\n",
      " [-1.76875784  8.56699192  1.18903553]\n",
      " [-1.96102962 -3.44933906  5.98128132]]\n",
      "\n",
      "Feature 1:\n",
      " [[ 0.11481296  0.01710922  0.0475094 ]\n",
      " [ 0.0480571   0.11523621  0.08221063]\n",
      " [-0.0506683  -0.029036    0.13382779]]\n"
     ]
    }
   ],
   "source": [
    "X = tl.eye(3)\n",
    "mask = tl.ones(X.shape)\n",
    "rank = 3\n",
    "\n",
    "result, A = parafac_grals(X, mask=mask, rank=rank, penalty_weight=1e-3)\n",
    "print('\\nOriginal:\\n', X, '\\n\\nResult:\\n', result)\n",
    "for k, feature_map in enumerate(A):\n",
    "    print(f'\\nFeature {k}:\\n', tl.to_numpy(feature_map))"
   ]
  },
  {
   "cell_type": "code",
   "execution_count": 12,
   "metadata": {},
   "outputs": [
    {
     "name": "stdout",
     "output_type": "stream",
     "text": [
      "Iterations: 318\n",
      "RMSE: 0.011391280812611237\n",
      "\n",
      "Original:\n",
      " [[1. 2. 3.]\n",
      " [2. 4. 6.]\n",
      " [3. 6. 9.]] \n",
      "\n",
      "Result:\n",
      " [[1.00229804 2.00710367 2.99800279]\n",
      " [2.00621957 4.01745837 6.0008616 ]\n",
      " [2.99503428 5.99756166 8.95853402]]\n",
      "\n",
      "Feature 0:\n",
      " [[3.31622464]\n",
      " [6.63782076]\n",
      " [9.90943419]]\n",
      "\n",
      "Feature 1:\n",
      " [[0.3022407 ]\n",
      " [0.60523755]\n",
      " [0.90404092]]\n"
     ]
    }
   ],
   "source": [
    "X = tl.tensor([[1, 2, 3], [2, 4, 6], [3, 6, 9]], dtype=tl.float64)\n",
    "mask = tl.tensor([[1, 1, 1], [1, 0, 1], [1, 1, 0]], dtype=tl.float64)\n",
    "rank = 1\n",
    "\n",
    "result, A = parafac_grals(X, mask=mask, rank=rank, penalty_weight=1e-3)\n",
    "print('\\nOriginal:\\n', X, '\\n\\nResult:\\n', result)\n",
    "for k, feature_map in enumerate(A):\n",
    "    print(f'\\nFeature {k}:\\n', tl.to_numpy(feature_map))"
   ]
  },
  {
   "cell_type": "code",
   "execution_count": 13,
   "metadata": {},
   "outputs": [
    {
     "name": "stdout",
     "output_type": "stream",
     "text": [
      "Iterations: 319\n",
      "RMSE: 0.01138107625499142\n",
      "\n",
      "Original:\n",
      " [[1. 2. 3.]\n",
      " [2. 0. 6.]\n",
      " [3. 6. 0.]\n",
      " [0. 0. 0.]] \n",
      "\n",
      "Result:\n",
      " [[1.00229598 2.00709727 2.99800446]\n",
      " [2.00621398 4.01744266 6.00086064]\n",
      " [2.99503871 5.99756375 8.95857075]\n",
      " [0.         0.         0.        ]]\n",
      "\n",
      "Feature 0:\n",
      " [[3.31471147]\n",
      " [6.63478718]\n",
      " [9.90494763]\n",
      " [0.        ]]\n",
      "\n",
      "Feature 1:\n",
      " [[0.30237805]\n",
      " [0.60551191]\n",
      " [0.90445413]]\n"
     ]
    }
   ],
   "source": [
    "X = tl.tensor([[1, 2, 3], [2, 0, 6], [3, 6, 0], [0, 0, 0]], dtype=tl.float64)\n",
    "mask = tl.tensor([[1, 1, 1], [1, 0, 1], [1, 1, 0], [0, 0, 0]], dtype=tl.float64)\n",
    "rank = 1\n",
    "\n",
    "result, A = parafac_grals(X, mask=mask, rank=rank, penalty_weight=1e-3)\n",
    "print('\\nOriginal:\\n', X, '\\n\\nResult:\\n', result)\n",
    "for k, feature_map in enumerate(A):\n",
    "    print(f'\\nFeature {k}:\\n', tl.to_numpy(feature_map))"
   ]
  },
  {
   "cell_type": "code",
   "execution_count": 14,
   "metadata": {},
   "outputs": [
    {
     "name": "stdout",
     "output_type": "stream",
     "text": [
      "Iterations: 10000\n",
      "RMSE: 2.1059154806299487\n",
      "\n",
      "Original:\n",
      " [[  0.  90. 449. 517.]\n",
      " [  0.   0. 412.   0.]\n",
      " [192.   0. 697. 687.]\n",
      " [185.   0. 699. 657.]\n",
      " [164.  58.   0.   0.]] \n",
      "\n",
      "Result:\n",
      " [[149.60117612  89.97387125 449.00548551 517.00251505]\n",
      " [-21.84064631  22.39772277 411.99103046  -1.14470979]\n",
      " [193.40483862 124.99451541 697.07556326 686.53219515]\n",
      " [183.58638424 121.41998396 698.92770238 657.47623047]\n",
      " [163.92726659  58.01831971 -53.2518618  481.63782275]]\n",
      "\n",
      "Feature 0:\n",
      " [[  -5.68041804  150.50533955]\n",
      " [  85.16406507   63.62479549]\n",
      " [  13.24807913  215.4737874 ]\n",
      " [  19.15218601  211.21010374]\n",
      " [-102.51728982   67.1833946 ]]\n",
      "\n",
      "Feature 1:\n",
      " [[-0.97165323  0.95732005]\n",
      " [-0.17858572  0.59107159]\n",
      " [ 2.5372798   3.07908209]\n",
      " [-2.509015    3.34041478]]\n"
     ]
    }
   ],
   "source": [
    "X = tl.tensor(np.array([[0,90,449,517], [0,0,412,0], [192,0,697,687], [185,0,699,657], [164,58,0,0]]), dtype=tl.float64)\n",
    "mask = tl.tensor(np.array([[0,1,1,1], [0,0,1,0], [1,0,1,1], [1,0,1,1], [1,1,0,0]]), dtype=tl.float64)\n",
    "rank = 2\n",
    "\n",
    "result, A = parafac_grals(X, mask=mask, rank=rank, penalty_weight=1e-3)\n",
    "print('\\nOriginal:\\n', X, '\\n\\nResult:\\n', result)\n",
    "for k, feature_map in enumerate(A):\n",
    "    print(f'\\nFeature {k}:\\n', tl.to_numpy(feature_map))"
   ]
  }
 ],
 "metadata": {
  "interpreter": {
   "hash": "5bc13a52393d9cf92ad84a5c56452b02f2f6920b5527d2a9f165e37749a47e8d"
  },
  "kernelspec": {
   "display_name": "Python 3.8.8 64-bit ('base': conda)",
   "name": "python3"
  },
  "language_info": {
   "codemirror_mode": {
    "name": "ipython",
    "version": 3
   },
   "file_extension": ".py",
   "mimetype": "text/x-python",
   "name": "python",
   "nbconvert_exporter": "python",
   "pygments_lexer": "ipython3",
   "version": "3.8.8"
  },
  "orig_nbformat": 4
 },
 "nbformat": 4,
 "nbformat_minor": 2
}
